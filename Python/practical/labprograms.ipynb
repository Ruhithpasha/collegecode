{
 "cells": [
  {
   "cell_type": "code",
   "execution_count": 4,
   "id": "5fada233",
   "metadata": {},
   "outputs": [
    {
     "name": "stdout",
     "output_type": "stream",
     "text": [
      "Original array: [12, 11, 13, 5, 6]\n",
      "Sorted array:  [5, 6, 11, 12, 13]\n"
     ]
    }
   ],
   "source": [
    "def insertion_sort(arr):\n",
    "    # Traverse from the second element to the end of the array\n",
    "    for i in range(1, len(arr)):\n",
    "        key = arr[i]  # The element to be inserted into the sorted part\n",
    "        j = i - 1\n",
    "        # Move elements of arr[0..i-1] that are greater than key one position ahead\n",
    "        while j >= 0 and arr[j] > key:\n",
    "            arr[j + 1] = arr[j]\n",
    "            j -= 1\n",
    "        arr[j + 1] = key  # Insert the key at the correct position\n",
    "\n",
    "# Example usage:\n",
    "arr = [12, 11, 13, 5, 6]\n",
    "print(\"Original array:\", arr)\n",
    "insertion_sort(arr)\n",
    "print(\"Sorted array: \", arr)\n"
   ]
  },
  {
   "cell_type": "code",
   "execution_count": 5,
   "id": "24b17a67",
   "metadata": {},
   "outputs": [
    {
     "name": "stdout",
     "output_type": "stream",
     "text": [
      "The first 5 prime numbers are:\n",
      "2 3 5 7 11 "
     ]
    }
   ],
   "source": [
    "def is_prime(num):\n",
    "    if num < 2:\n",
    "        return False\n",
    "    for i in range(2, int(num**0.5) + 1):  # Efficient check up to sqrt(num)\n",
    "        if num % i == 0:\n",
    "            return False\n",
    "    return True\n",
    "\n",
    "def print_first_n_primes(n):\n",
    "    count = 0\n",
    "    num = 2  # The first prime number\n",
    "    while count < n:\n",
    "        if is_prime(num):\n",
    "            print(num, end=' ')\n",
    "            count += 1\n",
    "        num += 1\n",
    "\n",
    "# Example usage\n",
    "n = int(input(\"Enter the value of n: \"))\n",
    "print(f\"The first {n} prime numbers are:\")\n",
    "print_first_n_primes(n)\n"
   ]
  },
  {
   "cell_type": "code",
   "execution_count": 6,
   "id": "7568952c",
   "metadata": {},
   "outputs": [
    {
     "name": "stdout",
     "output_type": "stream",
     "text": [
      "Resultant Matrix:\n",
      "[58, 64]\n",
      "[139, 154]\n"
     ]
    },
    {
     "data": {
      "text/plain": [
       "'\\nOutput:\\nResultant Matrix:\\n[58, 64]\\n[139, 154]\\n'"
      ]
     },
     "execution_count": 6,
     "metadata": {},
     "output_type": "execute_result"
    }
   ],
   "source": [
    "# Function to multiply two matrices\n",
    "def multiply_matrices(A, B):\n",
    "    # Get dimensions of the matrices\n",
    "    rows_A = len(A)\n",
    "    cols_A = len(A[0])\n",
    "    rows_B = len(B)\n",
    "    cols_B = len(B[0])\n",
    "\n",
    "    # Check if multiplication is possible\n",
    "    if cols_A != rows_B:\n",
    "        raise ValueError(\"Cannot multiply: Number of columns in A must be equal to number of rows in B.\")\n",
    "\n",
    "    # Initialize result matrix with zeros\n",
    "    result = [[0 for _ in range(cols_B)] for _ in range(rows_A)]\n",
    "\n",
    "    # Multiply matrices\n",
    "    for i in range(rows_A):\n",
    "        for j in range(cols_B):\n",
    "            for k in range(cols_A):\n",
    "                result[i][j] += A[i][k] * B[k][j]\n",
    "    \n",
    "    return result\n",
    "\n",
    "# Example usage\n",
    "A = [\n",
    "    [1, 2, 3],\n",
    "    [4, 5, 6]\n",
    "]\n",
    "B = [\n",
    "    [7, 8],\n",
    "    [9, 10],\n",
    "    [11, 12]\n",
    "]\n",
    "result = multiply_matrices(A, B)\n",
    "\n",
    "# Display result\n",
    "print(\"Resultant Matrix:\")\n",
    "for row in result:\n",
    "    print(row)\n",
    "\n",
    "\"\"\"\n",
    "Output:\n",
    "Resultant Matrix:\n",
    "[58, 64]\n",
    "[139, 154]\n",
    "\"\"\"\n"
   ]
  }
 ],
 "metadata": {
  "kernelspec": {
   "display_name": "Python 3",
   "language": "python",
   "name": "python3"
  },
  "language_info": {
   "codemirror_mode": {
    "name": "ipython",
    "version": 3
   },
   "file_extension": ".py",
   "mimetype": "text/x-python",
   "name": "python",
   "nbconvert_exporter": "python",
   "pygments_lexer": "ipython3",
   "version": "3.11.2"
  }
 },
 "nbformat": 4,
 "nbformat_minor": 5
}
