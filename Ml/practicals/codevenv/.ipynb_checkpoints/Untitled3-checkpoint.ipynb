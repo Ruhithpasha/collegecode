{
 "cells": [
  {
   "cell_type": "code",
   "execution_count": null,
   "id": "0c5608a8-d40a-4c21-b65f-26430980ce3b",
   "metadata": {},
   "outputs": [],
   "source": []
  }
 ],
 "metadata": {
  "kernelspec": {
   "display_name": "",
   "name": ""
  },
  "language_info": {
   "name": ""
  }
 },
 "nbformat": 4,
 "nbformat_minor": 5
}
