{
 "cells": [
  {
   "cell_type": "code",
   "execution_count": null,
   "id": "64ebdc79-3792-49e9-9954-198734a5ab25",
   "metadata": {},
   "outputs": [],
   "source": []
  }
 ],
 "metadata": {
  "kernelspec": {
   "display_name": "",
   "name": ""
  },
  "language_info": {
   "name": ""
  }
 },
 "nbformat": 4,
 "nbformat_minor": 5
}
