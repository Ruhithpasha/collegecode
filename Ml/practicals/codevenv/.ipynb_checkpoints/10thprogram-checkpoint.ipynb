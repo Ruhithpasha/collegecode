{
 "cells": [
  {
   "cell_type": "code",
   "execution_count": null,
   "id": "abbaa55c-918e-46e9-bb57-b5aeac25ad06",
   "metadata": {},
   "outputs": [],
   "source": [
    "import pandas as pd\n",
    "import matplotlib.pyplot as plt\n",
    "import seaborn as sns\n",
    "from scipy.cluster.hierarchy import linkage, dendrogram, fcluster\n",
    "from sklearn.preprocessing import StandardScaler\n",
    "\n",
    "# Sample data: Replace with real-world data as needed\n",
    "data = {\n",
    "    'Country': ['USA', 'Canada', 'Germany', 'France', 'India', 'China', 'Brazil', 'Russia'],\n",
    "    'GDP per Capita': [63000, 46000, 48000, 41000, 2100, 12000, 8800, 11400],\n",
    "    'Inflation Rate': [2.3, 1.5, 1.4, 1.8, 5.5, 2.1, 4.2, 3.4],\n",
    "    'Unemployment Rate': [5.2, 6.0, 4.5, 8.0, 7.1, 5.0, 9.8, 4.8]\n",
    "}\n",
    "\n",
    "df = pd.DataFrame(data)\n",
    "X = df[['GDP per Capita', 'Inflation Rate', 'Unemployment Rate']]\n",
    "\n",
    "# Standardize features (important for distance metrics)\n",
    "scaler = StandardScaler()\n",
    "X_scaled = scaler.fit_transform(X)\n",
    "\n",
    "# Perform hierarchical clustering using Ward's method\n",
    "linked = linkage(X_scaled, method='ward')\n",
    "\n",
    "# Plot dendrogram\n",
    "plt.figure(figsize=(10, 6))\n",
    "dendrogram(linked, labels=df['Country'].values, orientation='top', distance_sort='descending', show_leaf_counts=True)\n",
    "plt.title('Dendrogram: Country Clustering Based on Economic Indicators')\n",
    "plt.xlabel('Country')\n",
    "plt.ylabel('Distance')\n",
    "plt.tight_layout()\n",
    "plt.show()\n",
    "\n",
    "# Optional: assign clusters (e.g., 3 clusters)\n",
    "df['Cluster'] = fcluster(linked, t=3, criterion='maxclust')\n",
    "\n",
    "# Display clustered data\n",
    "print(df[['Country', 'Cluster']])\n"
   ]
  }
 ],
 "metadata": {
  "kernelspec": {
   "display_name": "Python 3 (ipykernel)",
   "language": "python",
   "name": "python3"
  },
  "language_info": {
   "codemirror_mode": {
    "name": "ipython",
    "version": 3
   },
   "file_extension": ".py",
   "mimetype": "text/x-python",
   "name": "python",
   "nbconvert_exporter": "python",
   "pygments_lexer": "ipython3",
   "version": "3.10.9"
  }
 },
 "nbformat": 4,
 "nbformat_minor": 5
}
