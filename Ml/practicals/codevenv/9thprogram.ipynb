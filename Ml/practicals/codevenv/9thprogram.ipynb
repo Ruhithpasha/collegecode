{
 "cells": [
  {
   "cell_type": "code",
   "execution_count": null,
   "id": "96cf3464-72c7-428b-bc7e-5d9d8d18c912",
   "metadata": {},
   "outputs": [],
   "source": [
    "import pandas as pd\n",
    "import matplotlib.pyplot as plt\n",
    "import seaborn as sns\n",
    "from sklearn.cluster import KMeans\n",
    "\n",
    "# Load or simulate customer data\n",
    "# Sample dataset: Annual Income vs Spending Score\n",
    "data = {\n",
    "    'CustomerID': [1, 2, 3, 4, 5, 6, 7, 8, 9, 10],\n",
    "    'Annual Income (k$)': [15, 16, 17, 18, 20, 60, 62, 63, 64, 65],\n",
    "    'Spending Score (1-100)': [39, 81, 6, 77, 40, 42, 50, 49, 48, 52]\n",
    "}\n",
    "\n",
    "df = pd.DataFrame(data)\n",
    "\n",
    "# Select features for clustering\n",
    "X = df[['Annual Income (k$)', 'Spending Score (1-100)']]\n",
    "\n",
    "# Visualize data before clustering\n",
    "sns.scatterplot(x='Annual Income (k$)', y='Spending Score (1-100)', data=df)\n",
    "plt.title('Customer Distribution')\n",
    "plt.show()\n",
    "\n",
    "# Use the Elbow Method to find optimal number of clusters (optional)\n",
    "wcss = []\n",
    "for i in range(1, 11):\n",
    "    kmeans = KMeans(n_clusters=i, init='k-means++', random_state=42)\n",
    "    kmeans.fit(X)\n",
    "    wcss.append(kmeans.inertia_)\n",
    "\n",
    "plt.plot(range(1, 11), wcss, marker='o')\n",
    "plt.title('Elbow Method for Optimal Clusters')\n",
    "plt.xlabel('Number of clusters')\n",
    "plt.ylabel('WCSS')\n",
    "plt.show()\n",
    "\n",
    "# Apply K-Means with optimal clusters (e.g., 3)\n",
    "kmeans = KMeans(n_clusters=3, init='k-means++', random_state=42)\n",
    "df['Cluster'] = kmeans.fit_predict(X)\n",
    "\n",
    "# Visualize clustered groups\n",
    "plt.figure(figsize=(8, 5))\n",
    "sns.scatterplot(\n",
    "    x='Annual Income (k$)', y='Spending Score (1-100)',\n",
    "    hue='Cluster', palette='Set2', data=df, s=100\n",
    ")\n",
    "plt.title('Customer Segments')\n",
    "plt.show()\n"
   ]
  }
 ],
 "metadata": {
  "kernelspec": {
   "display_name": "Python 3 (ipykernel)",
   "language": "python",
   "name": "python3"
  },
  "language_info": {
   "codemirror_mode": {
    "name": "ipython",
    "version": 3
   },
   "file_extension": ".py",
   "mimetype": "text/x-python",
   "name": "python",
   "nbconvert_exporter": "python",
   "pygments_lexer": "ipython3",
   "version": "3.10.9"
  }
 },
 "nbformat": 4,
 "nbformat_minor": 5
}
