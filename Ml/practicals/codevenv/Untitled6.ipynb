{
 "cells": [
  {
   "cell_type": "code",
   "execution_count": null,
   "id": "49c8c36d-5fe0-438c-aaa8-5418dd861fc8",
   "metadata": {},
   "outputs": [],
   "source": []
  }
 ],
 "metadata": {
  "kernelspec": {
   "display_name": "",
   "name": ""
  },
  "language_info": {
   "name": ""
  }
 },
 "nbformat": 4,
 "nbformat_minor": 5
}
